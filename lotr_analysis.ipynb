{
 "cells": [
  {
   "cell_type": "code",
   "execution_count": 84,
   "metadata": {},
   "outputs": [],
   "source": [
    "import pandas as pd\n",
    "import matplotlib\n",
    "import numpy as np\n",
    "import random\n",
    "import logging"
   ]
  },
  {
   "cell_type": "code",
   "execution_count": 85,
   "metadata": {},
   "outputs": [],
   "source": [
    "SCRIPTS_PATH = \"data/lotr_scripts.csv\"\n",
    "CHAR_PATH = \"data/lotr_characters.csv\"\n",
    "\n",
    "script_df = pd.read_csv(SCRIPTS_PATH)\n",
    "char_df = pd.read_csv(CHAR_PATH)\n",
    "\n",
    "logger = logging.getLogger(\"my-logger\")\n",
    "logger.setLevel(logging.INFO)"
   ]
  },
  {
   "cell_type": "code",
   "execution_count": 86,
   "metadata": {},
   "outputs": [
    {
     "name": "stdout",
     "output_type": "stream",
     "text": [
      "LEGOLAS:\n",
      "The horses are restless and the men are quiet. \n",
      "EOMER:\n",
      "They grow nervous in the shadow of the mountain.   \n",
      "GIMLI:\n",
      "That road there where does that lead?   \n"
     ]
    }
   ],
   "source": [
    "def show_dialog(script, index=None, after=0):\n",
    "\n",
    "    if index is None:\n",
    "        random.randint(0, len(script))\n",
    "\n",
    "    for i in range(after):\n",
    "        char=script.iloc[index+i][\"char\"].upper()\n",
    "        line=script.iloc[index+i][\"dialog\"]\n",
    "        print(f\"{char}:\")\n",
    "        print(f\"{line}\")\n",
    "\n",
    "# test show dialog:\n",
    "show_dialog(script_df, random.randint(0, len(script_df)), 3)"
   ]
  },
  {
   "cell_type": "code",
   "execution_count": 119,
   "metadata": {},
   "outputs": [],
   "source": [
    "# function to remove voiceover from the dataset\n",
    "def remove_voiceover(x):\n",
    "    if \"voice\" in x:\n",
    "        X = x.split(\" \")\n",
    "        return X[0]\n",
    "    else:\n",
    "        return x\n",
    "\n",
    "# manual fixes to script \n",
    "script_df[\"char\"]=script_df[\"char\"].apply(lambda x: x.lower())\n",
    "script_df[\"char\"]=script_df[\"char\"].apply(lambda x: x.strip())\n",
    "script_df[\"char\"]=script_df[\"char\"].apply(lambda x: x.strip(\"(\"))\n",
    "script_df[\"char\"]=script_df[\"char\"].apply(remove_voiceover)\n",
    "script_df[\"char\"]=script_df[\"char\"].replace(\"gan dalf\", \"gandalf\")\n",
    "script_df[\"char\"]=script_df[\"char\"].replace(\"eowyn/merry\", \"eowyn\")\n",
    "script_df[\"char\"]=script_df[\"char\"].replace(\"eye of sauron\", \"sauron\")\n",
    "script_df[\"char\"]=script_df[\"char\"].replace(\"galadril\", \"galadriel\")\n",
    "script_df[\"char\"]=script_df[\"char\"].replace(\"argorn\", \"aragorn\")\n",
    "script_df[\"char\"]=script_df[\"char\"].replace(\"strider\", \"aragorn\")\n"
   ]
  },
  {
   "cell_type": "code",
   "execution_count": 129,
   "metadata": {},
   "outputs": [],
   "source": [
    "# manual fixes for other characters# functions to remove errors/ wrong entries from the dataset\n",
    "# different names\n",
    "char_df[\"name\"]=char_df[\"name\"].replace(\"aragorn ii elessar\", \"aragorn\")\n",
    "char_df[\"name\"]=char_df[\"name\"].replace(\"bilbo baggins\", \"bilbo\")\n",
    "char_df[\"name\"]=char_df[\"name\"].replace(\"déagol\", \"deagol\")\n",
    "char_df[\"name\"]=char_df[\"name\"].replace(\"denethor ii\", \"denethor\")\n",
    "char_df[\"name\"]=char_df[\"name\"].replace(\"omer\", \"eomer\")\n",
    "char_df[\"name\"]=char_df[\"name\"].replace(\"othain\", \"eothain\")\n",
    "char_df[\"name\"]=char_df[\"name\"].replace(\"owyn\", \"eowyn\")\n",
    "char_df[\"name\"]=char_df[\"name\"].replace(\"frodo baggins\", \"frodo\")\n",
    "char_df[\"name\"]=char_df[\"name\"].replace(\"meriadoc brandybuck\", \"merry\")\n",
    "char_df[\"name\"]=char_df[\"name\"].replace(\"samwise gamgee\", \"sam\")\n",
    "char_df[\"name\"]=char_df[\"name\"].replace(\"peregrin took\", \"pippin\")\n",
    "char_df[\"name\"]=char_df[\"name\"].replace(\"rosie cotton\", \"rosie\")\n",
    "char_df[\"name\"]=char_df[\"name\"].replace(\"théoden\", \"theoden\")\n",
    "char_df[\"name\"]=char_df[\"name\"].replace(\"barliman butterbur\", \"barliman\")\n",
    "char_df[\"name\"]=char_df[\"name\"].replace(\"gríma wormtongue\", \"grima\")\n",
    "char_df[\"name\"]=char_df[\"name\"].replace(\"witch-king of angmar\", \"witch king\")\n",
    "char_df[\"name\"]=char_df[\"name\"].replace(\"the king of the dead\", \"king of the dead\")\n",
    "char_df[\"name\"]=char_df[\"name\"].replace(\"iorlas\", \"irolas\")\n",
    "char_df[\"name\"]=char_df[\"name\"].replace(\"haldir (lorien)\", \"haldir\")\n",
    "char_df[\"name\"]=char_df[\"name\"].replace(\"háma\", \"hama\")\n",
    "char_df[\"name\"]=char_df[\"name\"].replace(\"uglúk\", \"ugluk\")\n",
    "char_df[\"name\"]=char_df[\"name\"].replace(\"grishnákh\", \"grishnakh\")\n",
    "\n",
    "# duplicate races\n",
    "char_df[\"race\"]=char_df[\"race\"].replace(\"Hobbit\", \"Hobbits\")\n",
    "\n",
    "# manual smeagol fix, duplicate of gollum with changed name\n",
    "char_df.loc[911]=[\"TA 2430\", \"March 25 ,3019\", \"Male\", \"NaN\", \"NaN\", \"smeagol\", \"Hobbits\", \"NaN\", \"NaN\"]\n",
    "char_df[\"name\"]=char_df[\"name\"].apply(lambda x: x.lower().strip())"
   ]
  },
  {
   "cell_type": "code",
   "execution_count": 125,
   "metadata": {},
   "outputs": [
    {
     "name": "stdout",
     "output_type": "stream",
     "text": [
      "Len lotr: 2390\n",
      "Len script: 2390\n"
     ]
    }
   ],
   "source": [
    "lotr_df = script_df.merge(char_df, left_on=\"char\", right_on=\"name\", how=\"left\", indicator=True)\n",
    "#print(sorted(lotr_df[\"char\"].unique()))\n",
    "print(f\"Len lotr: {len(lotr_df)}\")\n",
    "print(f\"Len script: {len(script_df)}\")"
   ]
  }
 ],
 "metadata": {
  "kernelspec": {
   "display_name": "Python 3",
   "language": "python",
   "name": "python3"
  },
  "language_info": {
   "codemirror_mode": {
    "name": "ipython",
    "version": 3
   },
   "file_extension": ".py",
   "mimetype": "text/x-python",
   "name": "python",
   "nbconvert_exporter": "python",
   "pygments_lexer": "ipython3",
   "version": "3.10.4"
  },
  "orig_nbformat": 4,
  "vscode": {
   "interpreter": {
    "hash": "aee8b7b246df8f9039afb4144a1f6fd8d2ca17a180786b69acc140d282b71a49"
   }
  }
 },
 "nbformat": 4,
 "nbformat_minor": 2
}
